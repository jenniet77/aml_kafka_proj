{
 "cells": [
  {
   "cell_type": "code",
   "id": "initial_id",
   "metadata": {
    "collapsed": true,
    "ExecuteTime": {
     "end_time": "2025-05-12T09:00:07.894854Z",
     "start_time": "2025-05-12T09:00:07.803582Z"
    }
   },
   "source": [
    "import pandas as pd\n",
    "import numpy as np\n",
    "import joblib\n",
    "from joblib import load\n",
    "from joblib import dump\n",
    "from sklearn.pipeline import Pipeline\n",
    "from sklearn.model_selection import train_test_split\n",
    "from sklearn.preprocessing import StandardScaler\n",
    "from sklearn.metrics import accuracy_score, f1_score, roc_auc_score"
   ],
   "outputs": [],
   "execution_count": 2
  },
  {
   "metadata": {
    "ExecuteTime": {
     "end_time": "2025-05-12T09:00:14.051342Z",
     "start_time": "2025-05-12T09:00:07.917142Z"
    }
   },
   "cell_type": "code",
   "source": [
    "# Load raw data\n",
    "path = '../data/paysim_synthetic.csv'\n",
    "raw_data = pd.read_csv(path)"
   ],
   "id": "1874db2cc38fc056",
   "outputs": [],
   "execution_count": 3
  },
  {
   "metadata": {
    "ExecuteTime": {
     "end_time": "2025-05-12T09:00:14.090899Z",
     "start_time": "2025-05-12T09:00:14.083906Z"
    }
   },
   "cell_type": "code",
   "source": [
    "# Feature engineering function\n",
    "def engineer_features(data):\n",
    "    df = data.copy()\n",
    "\n",
    "    # Extract account types\n",
    "    df['origAccountType'] = data['nameOrig'].str[0]\n",
    "    df['destAccountType'] = data['nameDest'].str[0]\n",
    "\n",
    "    # Flag for Customer-to-Customer transactions\n",
    "    df['C_to_C'] = ((df['origAccountType'] == 'C') & (df['destAccountType'] == 'C')).astype(int)\n",
    "\n",
    "    # Log-transform amount to reduce skewness\n",
    "    df['logAmount'] = np.log1p(data['amount'])\n",
    "\n",
    "    # Balance features\n",
    "    df['oldbalanceDiff'] = data['oldbalanceOrg'] - data['oldbalanceDest']\n",
    "    df['newbalanceDiff'] = data['newbalanceOrig'] - data['newbalanceDest']\n",
    "    df['balanceChangeOrig'] = data['newbalanceOrig'] - data['oldbalanceOrg']\n",
    "    df['balanceChangeDest'] = data['newbalanceDest'] - data['oldbalanceDest']\n",
    "\n",
    "    # Check if transaction zeroes out the origin account\n",
    "    df['isOriginZeroed'] = (data['oldbalanceOrg'] > 0) & (data['newbalanceOrig'] == 0)\n",
    "\n",
    "    # Ratio of transaction amount to old balance\n",
    "    # To avoid division by zero, we'll add a small epsilon\n",
    "    epsilon = 1e-10\n",
    "    df['amountToOldBalanceRatio'] = data['amount'] / (data['oldbalanceOrg'] + epsilon)\n",
    "\n",
    "    # Is the transaction amount suspiciously close to the total balance?\n",
    "    df['isAmountCloseToBalance'] = (\n",
    "        abs(data['amount'] - data['oldbalanceOrg']) / (data['oldbalanceOrg'] + epsilon) < 0.05\n",
    "    ) & (data['oldbalanceOrg'] > 0)\n",
    "\n",
    "    # Error/oddity detection using np.isclose for balance check\n",
    "    df['errorBalanceOrig'] = ~np.isclose(data['newbalanceOrig'] + data['amount'], data['oldbalanceOrg'])\n",
    "    df['errorBalanceDest'] = ~np.isclose(data['oldbalanceDest'] + data['amount'], data['newbalanceDest'])\n",
    "\n",
    "    # One-hot encode categorical features\n",
    "    df = pd.get_dummies(df, columns=['type', 'origAccountType', 'destAccountType'], drop_first=True)\n",
    "\n",
    "    return df"
   ],
   "id": "529d6ced017ccef8",
   "outputs": [],
   "execution_count": 4
  },
  {
   "metadata": {
    "ExecuteTime": {
     "end_time": "2025-05-12T09:00:14.119347Z",
     "start_time": "2025-05-12T09:00:14.116681Z"
    }
   },
   "cell_type": "code",
   "source": [
    "# Clean and select features\n",
    "def preprocess_data(data):\n",
    "    data = engineer_features(data)\n",
    "    data = data.drop(columns=['nameOrig', 'nameDest', 'isFlaggedFraud', 'step', 'balanceChangeDest'], errors='ignore')\n",
    "    return data"
   ],
   "id": "bc6e112f0fa264af",
   "outputs": [],
   "execution_count": 5
  },
  {
   "metadata": {
    "ExecuteTime": {
     "end_time": "2025-05-12T09:00:21.054335Z",
     "start_time": "2025-05-12T09:00:14.129151Z"
    }
   },
   "cell_type": "code",
   "source": [
    "# Apply to full dataset\n",
    "df_processed = preprocess_data(raw_data)"
   ],
   "id": "d5ce926b9f26b374",
   "outputs": [],
   "execution_count": 6
  },
  {
   "metadata": {
    "ExecuteTime": {
     "end_time": "2025-05-12T09:00:21.226203Z",
     "start_time": "2025-05-12T09:00:21.080500Z"
    }
   },
   "cell_type": "code",
   "source": [
    "# Separate target and features\n",
    "X = df_processed.drop(\"isFraud\", axis=1)\n",
    "y = df_processed[\"isFraud\"]"
   ],
   "id": "e72935c011d7983f",
   "outputs": [],
   "execution_count": 7
  },
  {
   "metadata": {
    "ExecuteTime": {
     "end_time": "2025-05-12T09:00:23.473613Z",
     "start_time": "2025-05-12T09:00:21.238364Z"
    }
   },
   "cell_type": "code",
   "source": [
    "# Split (for evaluation only — not part of pipeline)\n",
    "X_train, X_test, y_train, y_test = train_test_split(X, y, stratify=y, test_size=0.2, random_state=42)"
   ],
   "id": "e00880bbf3cd739a",
   "outputs": [],
   "execution_count": 8
  },
  {
   "metadata": {
    "ExecuteTime": {
     "end_time": "2025-05-12T09:00:34.335954Z",
     "start_time": "2025-05-12T09:00:33.512066Z"
    }
   },
   "cell_type": "code",
   "source": [
    "# Load best model\n",
    "best_model = load(\"../models/best_RandomForestClassifier.joblib\")"
   ],
   "id": "cd45f1bfd4fb5ebf",
   "outputs": [],
   "execution_count": 10
  },
  {
   "metadata": {
    "ExecuteTime": {
     "end_time": "2025-05-12T09:00:39.273095Z",
     "start_time": "2025-05-12T09:00:37.658374Z"
    }
   },
   "cell_type": "code",
   "source": [
    "# Wrap preprocessing and model into pipeline\n",
    "preprocessing_pipeline = Pipeline([\n",
    "    ('scaler', StandardScaler())\n",
    "])\n",
    "\n",
    "preprocessing_pipeline.fit(X_train)\n",
    "\n",
    "full_pipeline = Pipeline([\n",
    "    ('preprocessing', preprocessing_pipeline),\n",
    "    ('model', best_model)\n",
    "])"
   ],
   "id": "3edee4aed6f259ae",
   "outputs": [],
   "execution_count": 11
  },
  {
   "metadata": {
    "ExecuteTime": {
     "end_time": "2025-05-12T09:21:15.797355Z",
     "start_time": "2025-05-12T09:00:42.620273Z"
    }
   },
   "cell_type": "code",
   "source": [
    "# Fit full pipeline\n",
    "full_pipeline.fit(X_train, y_train)"
   ],
   "id": "f5635d07adaac9d",
   "outputs": [
    {
     "data": {
      "text/plain": [
       "Pipeline(steps=[('preprocessing',\n",
       "                 Pipeline(steps=[('scaler', StandardScaler())])),\n",
       "                ('model',\n",
       "                 RandomForestClassifier(class_weight='balanced',\n",
       "                                        min_samples_split=5, n_estimators=200,\n",
       "                                        random_state=42))])"
      ],
      "text/html": [
       "<style>#sk-container-id-1 {color: black;background-color: white;}#sk-container-id-1 pre{padding: 0;}#sk-container-id-1 div.sk-toggleable {background-color: white;}#sk-container-id-1 label.sk-toggleable__label {cursor: pointer;display: block;width: 100%;margin-bottom: 0;padding: 0.3em;box-sizing: border-box;text-align: center;}#sk-container-id-1 label.sk-toggleable__label-arrow:before {content: \"▸\";float: left;margin-right: 0.25em;color: #696969;}#sk-container-id-1 label.sk-toggleable__label-arrow:hover:before {color: black;}#sk-container-id-1 div.sk-estimator:hover label.sk-toggleable__label-arrow:before {color: black;}#sk-container-id-1 div.sk-toggleable__content {max-height: 0;max-width: 0;overflow: hidden;text-align: left;background-color: #f0f8ff;}#sk-container-id-1 div.sk-toggleable__content pre {margin: 0.2em;color: black;border-radius: 0.25em;background-color: #f0f8ff;}#sk-container-id-1 input.sk-toggleable__control:checked~div.sk-toggleable__content {max-height: 200px;max-width: 100%;overflow: auto;}#sk-container-id-1 input.sk-toggleable__control:checked~label.sk-toggleable__label-arrow:before {content: \"▾\";}#sk-container-id-1 div.sk-estimator input.sk-toggleable__control:checked~label.sk-toggleable__label {background-color: #d4ebff;}#sk-container-id-1 div.sk-label input.sk-toggleable__control:checked~label.sk-toggleable__label {background-color: #d4ebff;}#sk-container-id-1 input.sk-hidden--visually {border: 0;clip: rect(1px 1px 1px 1px);clip: rect(1px, 1px, 1px, 1px);height: 1px;margin: -1px;overflow: hidden;padding: 0;position: absolute;width: 1px;}#sk-container-id-1 div.sk-estimator {font-family: monospace;background-color: #f0f8ff;border: 1px dotted black;border-radius: 0.25em;box-sizing: border-box;margin-bottom: 0.5em;}#sk-container-id-1 div.sk-estimator:hover {background-color: #d4ebff;}#sk-container-id-1 div.sk-parallel-item::after {content: \"\";width: 100%;border-bottom: 1px solid gray;flex-grow: 1;}#sk-container-id-1 div.sk-label:hover label.sk-toggleable__label {background-color: #d4ebff;}#sk-container-id-1 div.sk-serial::before {content: \"\";position: absolute;border-left: 1px solid gray;box-sizing: border-box;top: 0;bottom: 0;left: 50%;z-index: 0;}#sk-container-id-1 div.sk-serial {display: flex;flex-direction: column;align-items: center;background-color: white;padding-right: 0.2em;padding-left: 0.2em;position: relative;}#sk-container-id-1 div.sk-item {position: relative;z-index: 1;}#sk-container-id-1 div.sk-parallel {display: flex;align-items: stretch;justify-content: center;background-color: white;position: relative;}#sk-container-id-1 div.sk-item::before, #sk-container-id-1 div.sk-parallel-item::before {content: \"\";position: absolute;border-left: 1px solid gray;box-sizing: border-box;top: 0;bottom: 0;left: 50%;z-index: -1;}#sk-container-id-1 div.sk-parallel-item {display: flex;flex-direction: column;z-index: 1;position: relative;background-color: white;}#sk-container-id-1 div.sk-parallel-item:first-child::after {align-self: flex-end;width: 50%;}#sk-container-id-1 div.sk-parallel-item:last-child::after {align-self: flex-start;width: 50%;}#sk-container-id-1 div.sk-parallel-item:only-child::after {width: 0;}#sk-container-id-1 div.sk-dashed-wrapped {border: 1px dashed gray;margin: 0 0.4em 0.5em 0.4em;box-sizing: border-box;padding-bottom: 0.4em;background-color: white;}#sk-container-id-1 div.sk-label label {font-family: monospace;font-weight: bold;display: inline-block;line-height: 1.2em;}#sk-container-id-1 div.sk-label-container {text-align: center;}#sk-container-id-1 div.sk-container {/* jupyter's `normalize.less` sets `[hidden] { display: none; }` but bootstrap.min.css set `[hidden] { display: none !important; }` so we also need the `!important` here to be able to override the default hidden behavior on the sphinx rendered scikit-learn.org. See: https://github.com/scikit-learn/scikit-learn/issues/21755 */display: inline-block !important;position: relative;}#sk-container-id-1 div.sk-text-repr-fallback {display: none;}</style><div id=\"sk-container-id-1\" class=\"sk-top-container\"><div class=\"sk-text-repr-fallback\"><pre>Pipeline(steps=[(&#x27;preprocessing&#x27;,\n",
       "                 Pipeline(steps=[(&#x27;scaler&#x27;, StandardScaler())])),\n",
       "                (&#x27;model&#x27;,\n",
       "                 RandomForestClassifier(class_weight=&#x27;balanced&#x27;,\n",
       "                                        min_samples_split=5, n_estimators=200,\n",
       "                                        random_state=42))])</pre><b>In a Jupyter environment, please rerun this cell to show the HTML representation or trust the notebook. <br />On GitHub, the HTML representation is unable to render, please try loading this page with nbviewer.org.</b></div><div class=\"sk-container\" hidden><div class=\"sk-item sk-dashed-wrapped\"><div class=\"sk-label-container\"><div class=\"sk-label sk-toggleable\"><input class=\"sk-toggleable__control sk-hidden--visually\" id=\"sk-estimator-id-1\" type=\"checkbox\" ><label for=\"sk-estimator-id-1\" class=\"sk-toggleable__label sk-toggleable__label-arrow\">Pipeline</label><div class=\"sk-toggleable__content\"><pre>Pipeline(steps=[(&#x27;preprocessing&#x27;,\n",
       "                 Pipeline(steps=[(&#x27;scaler&#x27;, StandardScaler())])),\n",
       "                (&#x27;model&#x27;,\n",
       "                 RandomForestClassifier(class_weight=&#x27;balanced&#x27;,\n",
       "                                        min_samples_split=5, n_estimators=200,\n",
       "                                        random_state=42))])</pre></div></div></div><div class=\"sk-serial\"><div class=\"sk-item\"><div class=\"sk-label-container\"><div class=\"sk-label sk-toggleable\"><input class=\"sk-toggleable__control sk-hidden--visually\" id=\"sk-estimator-id-2\" type=\"checkbox\" ><label for=\"sk-estimator-id-2\" class=\"sk-toggleable__label sk-toggleable__label-arrow\">preprocessing: Pipeline</label><div class=\"sk-toggleable__content\"><pre>Pipeline(steps=[(&#x27;scaler&#x27;, StandardScaler())])</pre></div></div></div><div class=\"sk-serial\"><div class=\"sk-item\"><div class=\"sk-estimator sk-toggleable\"><input class=\"sk-toggleable__control sk-hidden--visually\" id=\"sk-estimator-id-3\" type=\"checkbox\" ><label for=\"sk-estimator-id-3\" class=\"sk-toggleable__label sk-toggleable__label-arrow\">StandardScaler</label><div class=\"sk-toggleable__content\"><pre>StandardScaler()</pre></div></div></div></div></div><div class=\"sk-item\"><div class=\"sk-estimator sk-toggleable\"><input class=\"sk-toggleable__control sk-hidden--visually\" id=\"sk-estimator-id-4\" type=\"checkbox\" ><label for=\"sk-estimator-id-4\" class=\"sk-toggleable__label sk-toggleable__label-arrow\">RandomForestClassifier</label><div class=\"sk-toggleable__content\"><pre>RandomForestClassifier(class_weight=&#x27;balanced&#x27;, min_samples_split=5,\n",
       "                       n_estimators=200, random_state=42)</pre></div></div></div></div></div></div></div>"
      ]
     },
     "execution_count": 12,
     "metadata": {},
     "output_type": "execute_result"
    }
   ],
   "execution_count": 12
  },
  {
   "metadata": {
    "ExecuteTime": {
     "end_time": "2025-05-12T09:24:31.809187Z",
     "start_time": "2025-05-12T09:24:08.408364Z"
    }
   },
   "cell_type": "code",
   "source": [
    "# Evaluate pipeline\n",
    "y_pred_pipeline = full_pipeline.predict(X_test)\n",
    "y_prob_pipeline = full_pipeline.predict_proba(X_test)[:, 1]\n",
    "\n",
    "pipeline_accuracy = accuracy_score(y_test, y_pred_pipeline)\n",
    "pipeline_f1 = f1_score(y_test, y_pred_pipeline)\n",
    "pipeline_auc = roc_auc_score(y_test, y_prob_pipeline)\n",
    "\n",
    "print(\"\\nPipeline Performance:\")\n",
    "print(f\"Accuracy: {pipeline_accuracy:.4f}\")\n",
    "print(f\"F1 Score: {pipeline_f1:.4f}\")\n",
    "print(f\"ROC AUC: {pipeline_auc:.4f}\")"
   ],
   "id": "60e4e4f63c7f4a29",
   "outputs": [
    {
     "name": "stdout",
     "output_type": "stream",
     "text": [
      "\n",
      "📊 Pipeline Performance:\n",
      "Accuracy: 1.0000\n",
      "F1 Score: 0.9985\n",
      "ROC AUC: 0.9988\n"
     ]
    }
   ],
   "execution_count": 13
  },
  {
   "metadata": {
    "ExecuteTime": {
     "end_time": "2025-05-12T09:25:52.754862Z",
     "start_time": "2025-05-12T09:25:52.638579Z"
    }
   },
   "cell_type": "code",
   "source": [
    "# Save final pipeline\n",
    "joblib.dump(full_pipeline, \"../models/fraud_detection_model.pkl\")\n",
    "print(\"Final pipeline saved to '../models/fraud_detection_model.pkl'\")"
   ],
   "id": "af587e75b26095a4",
   "outputs": [
    {
     "name": "stdout",
     "output_type": "stream",
     "text": [
      "Final pipeline saved to 'fraud_detection_model.pkl'\n"
     ]
    }
   ],
   "execution_count": 17
  },
  {
   "metadata": {
    "ExecuteTime": {
     "end_time": "2025-05-12T09:25:50.669749Z",
     "start_time": "2025-05-12T09:25:50.650354Z"
    }
   },
   "cell_type": "code",
   "source": [
    "# Save feature order used during training for future inference\n",
    "feature_order = X_train.columns.tolist()\n",
    "joblib.dump(feature_order, \"../models/feature_order.pkl\")\n",
    "print(\"Feature order saved to '../models/feature_order.pkl'\")"
   ],
   "id": "3698cd8e8ec0ad79",
   "outputs": [
    {
     "name": "stdout",
     "output_type": "stream",
     "text": [
      "Feature order saved to 'feature_order.pkl'\n"
     ]
    }
   ],
   "execution_count": 16
  },
  {
   "metadata": {
    "ExecuteTime": {
     "end_time": "2025-05-12T09:56:32.048075Z",
     "start_time": "2025-05-12T09:56:31.991411Z"
    }
   },
   "cell_type": "code",
   "source": [
    "# Create a feature transformation function for new data\n",
    "def preprocess_data(df, feature_order=feature_order):\n",
    "    # Apply the same feature engineering as before\n",
    "    processed_df = engineer_features(df)\n",
    "\n",
    "    # Ensure all expected columns are present\n",
    "    missing_cols = [col for col in feature_order if col not in processed_df.columns]\n",
    "    for col in missing_cols:\n",
    "        processed_df[col] = 0\n",
    "\n",
    "    # Reorder to match training set\n",
    "    processed_df = processed_df[feature_order]\n",
    "\n",
    "    return processed_df\n",
    "\n",
    "# Create a function to make predictions on new data\n",
    "def predict_fraud(transaction_data, model=None):\n",
    "    \"\"\"\n",
    "    Make fraud predictions on new transaction data.\n",
    "\n",
    "    Parameters:\n",
    "    -----------\n",
    "    transaction_data : pandas DataFrame\n",
    "        New transaction data with the same format as the original dataset\n",
    "\n",
    "    Returns:\n",
    "    --------\n",
    "    DataFrame with original data plus fraud predictions and probabilities\n",
    "    \"\"\"\n",
    "    # Preprocess the data\n",
    "    processed_data = preprocess_data(transaction_data)\n",
    "\n",
    "    # Load the model\n",
    "    if model is None:\n",
    "        model = joblib.load('../models/fraud_detection_model.pkl')\n",
    "\n",
    "    # Make predictions\n",
    "    fraud_proba = model.predict_proba(processed_data)[:, 1]\n",
    "    fraud_pred = model.predict(processed_data)\n",
    "\n",
    "    # Add predictions to the original data\n",
    "    result = transaction_data.copy()\n",
    "    result['fraud_probability'] = fraud_proba\n",
    "    result['fraud_prediction'] = fraud_pred\n",
    "\n",
    "    return result"
   ],
   "id": "3226a05fd01abf7a",
   "outputs": [],
   "execution_count": 24
  },
  {
   "metadata": {
    "ExecuteTime": {
     "end_time": "2025-05-12T09:57:46.530282Z",
     "start_time": "2025-05-12T09:57:46.457522Z"
    }
   },
   "cell_type": "code",
   "source": [
    "# Test the prediction function on a sample of test data\n",
    "model = joblib.load('../models/fraud_detection_model.pkl')\n",
    "sample_test = raw_data.iloc[:5].copy()\n",
    "\n",
    "sample_predictions = predict_fraud(sample_test, model=model)\n",
    "\n",
    "sample_predictions[['step', 'type', 'amount', 'nameOrig', 'nameDest', 'fraud_probability', 'fraud_prediction']]"
   ],
   "id": "857116a4c99d4670",
   "outputs": [
    {
     "data": {
      "text/plain": [
       "   step      type    amount     nameOrig     nameDest  fraud_probability  \\\n",
       "0     1   PAYMENT   9839.64  C1231006815  M1979787155            0.00000   \n",
       "1     1   PAYMENT   1864.28  C1666544295  M2044282225            0.00000   \n",
       "2     1  TRANSFER    181.00  C1305486145   C553264065            1.00000   \n",
       "3     1  CASH_OUT    181.00   C840083671    C38997010            0.87498   \n",
       "4     1   PAYMENT  11668.14  C2048537720  M1230701703            0.00000   \n",
       "\n",
       "   fraud_prediction  \n",
       "0                 0  \n",
       "1                 0  \n",
       "2                 1  \n",
       "3                 1  \n",
       "4                 0  "
      ],
      "text/html": [
       "<div>\n",
       "<style scoped>\n",
       "    .dataframe tbody tr th:only-of-type {\n",
       "        vertical-align: middle;\n",
       "    }\n",
       "\n",
       "    .dataframe tbody tr th {\n",
       "        vertical-align: top;\n",
       "    }\n",
       "\n",
       "    .dataframe thead th {\n",
       "        text-align: right;\n",
       "    }\n",
       "</style>\n",
       "<table border=\"1\" class=\"dataframe\">\n",
       "  <thead>\n",
       "    <tr style=\"text-align: right;\">\n",
       "      <th></th>\n",
       "      <th>step</th>\n",
       "      <th>type</th>\n",
       "      <th>amount</th>\n",
       "      <th>nameOrig</th>\n",
       "      <th>nameDest</th>\n",
       "      <th>fraud_probability</th>\n",
       "      <th>fraud_prediction</th>\n",
       "    </tr>\n",
       "  </thead>\n",
       "  <tbody>\n",
       "    <tr>\n",
       "      <th>0</th>\n",
       "      <td>1</td>\n",
       "      <td>PAYMENT</td>\n",
       "      <td>9839.64</td>\n",
       "      <td>C1231006815</td>\n",
       "      <td>M1979787155</td>\n",
       "      <td>0.00000</td>\n",
       "      <td>0</td>\n",
       "    </tr>\n",
       "    <tr>\n",
       "      <th>1</th>\n",
       "      <td>1</td>\n",
       "      <td>PAYMENT</td>\n",
       "      <td>1864.28</td>\n",
       "      <td>C1666544295</td>\n",
       "      <td>M2044282225</td>\n",
       "      <td>0.00000</td>\n",
       "      <td>0</td>\n",
       "    </tr>\n",
       "    <tr>\n",
       "      <th>2</th>\n",
       "      <td>1</td>\n",
       "      <td>TRANSFER</td>\n",
       "      <td>181.00</td>\n",
       "      <td>C1305486145</td>\n",
       "      <td>C553264065</td>\n",
       "      <td>1.00000</td>\n",
       "      <td>1</td>\n",
       "    </tr>\n",
       "    <tr>\n",
       "      <th>3</th>\n",
       "      <td>1</td>\n",
       "      <td>CASH_OUT</td>\n",
       "      <td>181.00</td>\n",
       "      <td>C840083671</td>\n",
       "      <td>C38997010</td>\n",
       "      <td>0.87498</td>\n",
       "      <td>1</td>\n",
       "    </tr>\n",
       "    <tr>\n",
       "      <th>4</th>\n",
       "      <td>1</td>\n",
       "      <td>PAYMENT</td>\n",
       "      <td>11668.14</td>\n",
       "      <td>C2048537720</td>\n",
       "      <td>M1230701703</td>\n",
       "      <td>0.00000</td>\n",
       "      <td>0</td>\n",
       "    </tr>\n",
       "  </tbody>\n",
       "</table>\n",
       "</div>"
      ]
     },
     "execution_count": 27,
     "metadata": {},
     "output_type": "execute_result"
    }
   ],
   "execution_count": 27
  }
 ],
 "metadata": {
  "kernelspec": {
   "display_name": "Python 3",
   "language": "python",
   "name": "python3"
  },
  "language_info": {
   "codemirror_mode": {
    "name": "ipython",
    "version": 2
   },
   "file_extension": ".py",
   "mimetype": "text/x-python",
   "name": "python",
   "nbconvert_exporter": "python",
   "pygments_lexer": "ipython2",
   "version": "2.7.6"
  }
 },
 "nbformat": 4,
 "nbformat_minor": 5
}
